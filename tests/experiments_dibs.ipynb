{
  "cells": [
    {
      "cell_type": "code",
      "execution_count": 4,
      "metadata": {
        "colab": {
          "base_uri": "https://localhost:8080/"
        },
        "id": "DsG9jLsoRHYa",
        "outputId": "d809f18b-bdb1-481c-8af2-021cc58840bc"
      },
      "outputs": [
        {
          "name": "stdout",
          "output_type": "stream",
          "text": [
            "Cloning into 'dibs_torch_v2'...\n",
            "remote: Enumerating objects: 14, done.\u001b[K\n",
            "remote: Counting objects: 100% (14/14), done.\u001b[K\n",
            "remote: Compressing objects: 100% (12/12), done.\u001b[K\n",
            "remote: Total 14 (delta 0), reused 14 (delta 0), pack-reused 0 (from 0)\u001b[K\n",
            "Receiving objects: 100% (14/14), 25.82 KiB | 6.45 MiB/s, done.\n"
          ]
        }
      ],
      "source": [
        "# In a Colab cell\n",
        "REPO_NAME = \"dibs_torch_v2\" # Or your actual repo name on GitHub\n",
        "GIT_PATH = f\"https://github.com/GoktugDonmez/{REPO_NAME}.git\"\n",
        "!git clone {GIT_PATH}\n"
      ]
    },
    {
      "cell_type": "code",
      "execution_count": 7,
      "metadata": {
        "colab": {
          "base_uri": "https://localhost:8080/"
        },
        "id": "rrgmvtMlRdzD",
        "outputId": "5d3af5c4-1770-4ae1-fea5-ad4800d2da9d"
      },
      "outputs": [
        {
          "name": "stdout",
          "output_type": "stream",
          "text": [
            "Collecting igraph\n",
            "  Downloading igraph-0.11.8-cp39-abi3-manylinux_2_17_x86_64.manylinux2014_x86_64.whl.metadata (3.8 kB)\n",
            "Collecting texttable>=1.6.2 (from igraph)\n",
            "  Downloading texttable-1.7.0-py2.py3-none-any.whl.metadata (9.8 kB)\n",
            "Downloading igraph-0.11.8-cp39-abi3-manylinux_2_17_x86_64.manylinux2014_x86_64.whl (3.1 MB)\n",
            "\u001b[?25l   \u001b[90m━━━━━━━━━━━━━━━━━━━━━━━━━━━━━━━━━━━━━━━━\u001b[0m \u001b[32m0.0/3.1 MB\u001b[0m \u001b[31m?\u001b[0m eta \u001b[36m-:--:--\u001b[0m\r\u001b[2K   \u001b[91m━━━━━━━━━━━━━━━━━━━━━━━━━━━━━━━━━━━━━━━\u001b[0m\u001b[91m╸\u001b[0m \u001b[32m3.1/3.1 MB\u001b[0m \u001b[31m123.4 MB/s\u001b[0m eta \u001b[36m0:00:01\u001b[0m\r\u001b[2K   \u001b[90m━━━━━━━━━━━━━━━━━━━━━━━━━━━━━━━━━━━━━━━━\u001b[0m \u001b[32m3.1/3.1 MB\u001b[0m \u001b[31m67.7 MB/s\u001b[0m eta \u001b[36m0:00:00\u001b[0m\n",
            "\u001b[?25hDownloading texttable-1.7.0-py2.py3-none-any.whl (10 kB)\n",
            "Installing collected packages: texttable, igraph\n",
            "Successfully installed igraph-0.11.8 texttable-1.7.0\n"
          ]
        }
      ],
      "source": [
        "!pip install igraph"
      ]
    },
    {
      "cell_type": "code",
      "execution_count": 12,
      "metadata": {
        "colab": {
          "base_uri": "https://localhost:8080/"
        },
        "id": "tA920cHePIxy",
        "outputId": "cb090cfb-1868-4416-e8a8-2ef6be04d5bc",
        "vscode": {
          "languageId": "plaintext"
        }
      },
      "outputs": [
        {
          "name": "stdout",
          "output_type": "stream",
          "text": [
            "All imports from the repo are successful in Colab!\n"
          ]
        }
      ],
      "source": [
        "import sys\n",
        "import torch\n",
        "sys.path.append(f'/content/{REPO_NAME}') # Adds your project root in Colab to sys.path\n",
        "\n",
        "# Now you can import any function from any .py file in your repo\n",
        "from models.dibs_torch_v2 import log_joint, bernoulli_soft_gmat\n",
        "from models.utils_torch import acyclic_constr\n",
        "from models.graph_torch import topological_sort\n",
        "\n",
        "print(\"All imports from the repo are successful in Colab!\")"
      ]
    },
    {
      "cell_type": "code",
      "execution_count": 13,
      "metadata": {
        "id": "swbt3WjzRGH9"
      },
      "outputs": [],
      "source": [
        "from models.dibs_torch_v2 import log_joint, grad_log_joint, bernoulli_soft_gmat, hard_gmat_particles_from_z, log_gaussian_likelihood\n",
        "from models.graph_torch import scalefree_dag_gmat\n",
        "from models.utils_torch import sample_x\n"
      ]
    },
    {
      "cell_type": "code",
      "execution_count": 16,
      "metadata": {
        "colab": {
          "base_uri": "https://localhost:8080/"
        },
        "id": "mDjbX_TTRqP6",
        "outputId": "723f24f8-458f-4811-c3db-8b9c34911785"
      },
      "outputs": [
        {
          "name": "stdout",
          "output_type": "stream",
          "text": [
            "tensor(-1844.3110)\n"
          ]
        }
      ],
      "source": [
        "  n = 10\n",
        "  d = 5\n",
        "  x = torch.randn(n, d)\n",
        "  pred_mean = torch.randn(n, d)\n",
        "  sigma = torch.rand(d)\n",
        "\n",
        "  print(log_gaussian_likelihood(x, pred_mean, sigma))\n"
      ]
    }
  ],
  "metadata": {
    "colab": {
      "provenance": []
    },
    "kernelspec": {
      "display_name": "Python 3",
      "name": "python3"
    },
    "language_info": {
      "name": "python"
    }
  },
  "nbformat": 4,
  "nbformat_minor": 0
}
