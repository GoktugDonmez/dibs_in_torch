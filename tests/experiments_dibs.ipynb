{
 "cells": [
  {
   "cell_type": "code",
   "execution_count": null,
   "metadata": {
    "vscode": {
     "languageId": "plaintext"
    }
   },
   "outputs": [],
   "source": [
    "import sys\n",
    "import os\n",
    "\n",
    "# Add the project root directory to Python's module search path\n",
    "# This assumes the notebook/script is in the 'tests' subdirectory\n",
    "# Adjust if your notebook/script is elsewhere relative to the project root\n",
    "\n",
    "# For a .py script in /tests/\n",
    "# current_dir = os.path.dirname(os.path.abspath(__file__))\n",
    "# project_root = os.path.dirname(current_dir) \n",
    "\n",
    "# For a .ipynb notebook, often easier if you know the relative path from CWD\n",
    "# If your Jupyter kernel starts from project_root, this isn't needed.\n",
    "# If kernel starts in /tests, then '..' is the project root.\n",
    "try:\n",
    "    # This works if the notebook's CWD is the 'tests' directory\n",
    "    project_root = os.path.abspath('..') \n",
    "    if project_root not in sys.path:\n",
    "        sys.path.insert(0, project_root)\n",
    "    print(f\"Added project root to sys.path: {project_root}\")\n",
    "except Exception as e:\n",
    "    print(f\"Could not automatically add project root: {e}. Ensure your CWD is correct or manually add.\")\n",
    "    # Fallback for Colab-like environments if you clone into /content/my_dibs_project\n",
    "    # if os.path.exists('/content/my_dibs_project'): # Replace with your actual repo name\n",
    "    #    sys.path.append('/content/my_dibs_project')\n",
    "\n",
    "\n",
    "from models.dibs_torch import log_joint, bernoulli_soft_gmat\n",
    "from models.utils_torch import acyclic_constr\n",
    "from models.graph_torch import topological_sort_util\n",
    "from inference.svgd import SVGDAlgorithm # Example\n",
    "\n",
    "print(\"Imports successful!\")\n",
    "\n",
    "# ... rest of your notebook/test code ...\n"
   ]
  }
 ],
 "metadata": {
  "language_info": {
   "name": "python"
  }
 },
 "nbformat": 4,
 "nbformat_minor": 2
}
